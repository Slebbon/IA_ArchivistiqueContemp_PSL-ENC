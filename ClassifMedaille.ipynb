{
 "cells": [
  {
   "cell_type": "code",
   "execution_count": 8,
   "metadata": {},
   "outputs": [],
   "source": [
    "import spacy\n",
    "import os"
   ]
  },
  {
   "cell_type": "code",
   "execution_count": 9,
   "metadata": {},
   "outputs": [],
   "source": [
    "folder_path = \"C:\\\\Users\\\\marco\\\\OneDrive\\\\Desktop\\\\Università\\\\ArchivContemp\\\\Transcriptions\"\n",
    "output_file = \"C:\\\\Users\\\\marco\\\\OneDrive\\\\Desktop\\\\Università\\\\ArchivContemp\\\\results_tal.txt\""
   ]
  },
  {
   "cell_type": "code",
   "execution_count": 10,
   "metadata": {},
   "outputs": [],
   "source": [
    "#Téléchargement de modèle spacy pour le français\n",
    "nlp = spacy.load('fr_core_news_md')"
   ]
  },
  {
   "cell_type": "code",
   "execution_count": 11,
   "metadata": {},
   "outputs": [],
   "source": [
    "def process_file(file_path):\n",
    "    # Ouvre le fichier en mode lecture et lit son contenu\n",
    "    with open(file_path, 'r', encoding='utf-8') as file:\n",
    "        text = file.read()\n",
    "        # Traite le texte en utilisant SpaCy pour créer un objet Doc\n",
    "        doc = nlp(text)\n",
    "        processed_info = []\n",
    "        # Parcourt chaque token dans le document SpaCy\n",
    "        for token in doc:\n",
    "            # Crée un dictionnaire d'informations pour chaque token\n",
    "            token_info = {\n",
    "                'text': token.text,  # Texte du token\n",
    "                'lemma': token.lemma_,  # Forme canonique du token (lemme)\n",
    "                'pos_tag': token.pos_,  # Étiquette de la partie du discours du token\n",
    "                'ner': token.ent_type_ if token.ent_type_ else 'O'  # Étiquette d'entité nommée du token, 'O' pour les tokens non-entités\n",
    "            }\n",
    "            processed_info.append(token_info)  # Ajoute les informations du token à la liste des informations traitées\n",
    "        return processed_info  # Retourne la liste des informations traitées pour chaque token du document\n"
   ]
  },
  {
   "cell_type": "code",
   "execution_count": 12,
   "metadata": {},
   "outputs": [],
   "source": [
    "def write_processed_info(output_file, data):\n",
    "    # Vérifie le type de données passées en argument\n",
    "    if isinstance(data, str):\n",
    "        # Si les données sont une chaîne de caractères (chemin du fichier), écris l'en-tête correspondant dans le fichier de sortie\n",
    "        output_file.write(f\"File: {data}\\n\")\n",
    "    else:\n",
    "        # Si les données sont une liste de dictionnaires (informations de tokens), parcourt chaque dictionnaire et écrit les informations dans le fichier de sortie\n",
    "        for token_info in data:\n",
    "            output_file.write(f\"{token_info['text']}\\t{token_info['lemma']}\\t{token_info['pos_tag']}\\t{token_info['ner']}\\n\")"
   ]
  },
  {
   "cell_type": "code",
   "execution_count": 13,
   "metadata": {},
   "outputs": [],
   "source": [
    "def process_files_in_folder(folder_path, output_file):\n",
    "    # Ouvre le fichier de sortie en mode écriture\n",
    "    with open(output_file, 'w', encoding='utf-8') as output:\n",
    "        # Parcourt tous les fichiers dans le dossier spécifié\n",
    "        for filename in os.listdir(folder_path):\n",
    "            if filename.endswith('.txt'):\n",
    "                # Construit le chemin complet du fichier\n",
    "                file_path = os.path.join(folder_path, filename)\n",
    "                # Traite le fichier et récupère les informations\n",
    "                processed_doc = process_file(file_path)\n",
    "                write_processed_info(output, file_path)\n",
    "                write_processed_info(output, processed_doc)\n",
    "                output.write('\\n\\n')\n"
   ]
  },
  {
   "cell_type": "code",
   "execution_count": 14,
   "metadata": {},
   "outputs": [],
   "source": [
    "process_files_in_folder(folder_path, output_file)"
   ]
  }
 ],
 "metadata": {
  "kernelspec": {
   "display_name": "Python 3",
   "language": "python",
   "name": "python3"
  },
  "language_info": {
   "codemirror_mode": {
    "name": "ipython",
    "version": 3
   },
   "file_extension": ".py",
   "mimetype": "text/x-python",
   "name": "python",
   "nbconvert_exporter": "python",
   "pygments_lexer": "ipython3",
   "version": "3.11.8"
  }
 },
 "nbformat": 4,
 "nbformat_minor": 2
}
